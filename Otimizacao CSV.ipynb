{
 "cells": [
  {
   "cell_type": "code",
   "execution_count": null,
   "id": "09345150-4f64-4145-af8e-f9757f84e938",
   "metadata": {},
   "outputs": [],
   "source": [
    "import pandas as pd\n",
    "import numpy as np"
   ]
  },
  {
   "cell_type": "code",
   "execution_count": null,
   "id": "52f4a4cb-014d-4dbe-900b-3c3bdd63a371",
   "metadata": {},
   "outputs": [],
   "source": [
    "def criar_df(tamanho):\n",
    "    # Criar uma base de dados Fake\n",
    "    df = pd.DataFrame()\n",
    "    df['tamanho'] = np.random.choice(['grande','médio','pequeno'], tamanho)\n",
    "    df['idade'] = np.random.randint(1, 50, tamanho)\n",
    "    df['time'] = np.random.choice(['vermelho','azul','amarelo','verde'], tamanho)\n",
    "    df['ganhou'] = np.random.choice(['sim','nao'], tamanho)\n",
    "    data = pd.date_range('2021-01-01', '2023-12-31')\n",
    "    df['data'] = np.random.choice(data, tamanho)\n",
    "    df['pontos'] = np.random.uniform(0, 10, tamanho)\n",
    "    return df\n",
    "\n",
    "def definir_tipo(df):\n",
    "    df['tamanho'] = df['tamanho'].astype('category')\n",
    "    df['time'] = df['time'].astype('category')\n",
    "    df['idade'] = df['idade'].astype('int16')\n",
    "    df['ganhou'] = df['ganhou'].map({'sim':True, 'nao': False})\n",
    "    df['pontos'] = df['pontos'].astype('float32')\n",
    "    return df"
   ]
  },
  {
   "cell_type": "code",
   "execution_count": null,
   "id": "e605f685-2b2f-42ad-b450-f23a43eb5ffc",
   "metadata": {
    "scrolled": true
   },
   "outputs": [],
   "source": [
    "df = criar_df(1_000_000)\n",
    "df.info()"
   ]
  },
  {
   "cell_type": "code",
   "execution_count": null,
   "id": "b165a1a6-7116-457c-89a4-3583f04298af",
   "metadata": {},
   "outputs": [],
   "source": [
    "df.head()"
   ]
  },
  {
   "cell_type": "code",
   "execution_count": null,
   "id": "30f330f6-a9ca-4586-a647-9a3d890ee52b",
   "metadata": {},
   "outputs": [],
   "source": [
    "df.to_csv('teste.csv')"
   ]
  },
  {
   "cell_type": "code",
   "execution_count": 15,
   "id": "8fd0327f-52e5-4f01-a5af-4f8b65f89305",
   "metadata": {},
   "outputs": [
    {
     "name": "stdout",
     "output_type": "stream",
     "text": [
      "O tamanho do arquivo teste.csv é 55.61 MB\n"
     ]
    }
   ],
   "source": [
    "import os\n",
    "\n",
    "nome_arquivo = 'teste.csv'\n",
    "\n",
    "# Obtendo o tamanho do arquivo em bytes\n",
    "tamanho = os.path.getsize(nome_arquivo)\n",
    "\n",
    "# Convertendo para megabytes\n",
    "tamanho_em_megabytes = tamanho / (1024 * 1024)\n",
    "print(f'O tamanho do arquivo {nome_arquivo} é {tamanho_em_megabytes:.2f} MB')"
   ]
  },
  {
   "cell_type": "code",
   "execution_count": 14,
   "id": "e0355263-aeae-48af-85d1-7def32cd40c9",
   "metadata": {},
   "outputs": [
    {
     "name": "stdout",
     "output_type": "stream",
     "text": [
      "2.17 s ± 61.9 ms per loop (mean ± std. dev. of 7 runs, 1 loop each)\n",
      "472 ms ± 18 ms per loop (mean ± std. dev. of 7 runs, 1 loop each)\n"
     ]
    }
   ],
   "source": [
    "df = criar_df(1_000_000)\n",
    "%timeit df.to_csv('teste.csv')\n",
    "%timeit df = pd.read_csv('teste.csv')"
   ]
  },
  {
   "cell_type": "code",
   "execution_count": 16,
   "id": "dabc03e6-9192-4511-94e8-49d65a2feedf",
   "metadata": {},
   "outputs": [
    {
     "name": "stdout",
     "output_type": "stream",
     "text": [
      "<class 'pandas.core.frame.DataFrame'>\n",
      "RangeIndex: 1000000 entries, 0 to 999999\n",
      "Data columns (total 6 columns):\n",
      " #   Column   Non-Null Count    Dtype         \n",
      "---  ------   --------------    -----         \n",
      " 0   tamanho  1000000 non-null  object        \n",
      " 1   idade    1000000 non-null  int32         \n",
      " 2   time     1000000 non-null  object        \n",
      " 3   ganhou   1000000 non-null  object        \n",
      " 4   data     1000000 non-null  datetime64[ns]\n",
      " 5   pontos   1000000 non-null  float64       \n",
      "dtypes: datetime64[ns](1), float64(1), int32(1), object(3)\n",
      "memory usage: 42.0+ MB\n"
     ]
    }
   ],
   "source": [
    "df.info()"
   ]
  },
  {
   "cell_type": "code",
   "execution_count": 17,
   "id": "7114e6b3-56dc-4f4a-b7ce-dda340992af3",
   "metadata": {},
   "outputs": [
    {
     "name": "stdout",
     "output_type": "stream",
     "text": [
      "<class 'pandas.core.frame.DataFrame'>\n",
      "RangeIndex: 1000000 entries, 0 to 999999\n",
      "Data columns (total 6 columns):\n",
      " #   Column   Non-Null Count    Dtype         \n",
      "---  ------   --------------    -----         \n",
      " 0   tamanho  1000000 non-null  category      \n",
      " 1   idade    1000000 non-null  int16         \n",
      " 2   time     1000000 non-null  category      \n",
      " 3   ganhou   1000000 non-null  bool          \n",
      " 4   data     1000000 non-null  datetime64[ns]\n",
      " 5   pontos   1000000 non-null  float32       \n",
      "dtypes: bool(1), category(2), datetime64[ns](1), float32(1), int16(1)\n",
      "memory usage: 16.2 MB\n"
     ]
    }
   ],
   "source": [
    "df = definir_tipo(df)\n",
    "df.info()"
   ]
  },
  {
   "cell_type": "code",
   "execution_count": 18,
   "id": "72c53790-241a-4200-b029-bedf220671dd",
   "metadata": {},
   "outputs": [
    {
     "name": "stdout",
     "output_type": "stream",
     "text": [
      "<class 'pandas.core.frame.DataFrame'>\n",
      "RangeIndex: 1000000 entries, 0 to 999999\n",
      "Data columns (total 6 columns):\n",
      " #   Column   Non-Null Count    Dtype  \n",
      "---  ------   --------------    -----  \n",
      " 0   tamanho  1000000 non-null  object \n",
      " 1   idade    1000000 non-null  int64  \n",
      " 2   time     1000000 non-null  object \n",
      " 3   ganhou   1000000 non-null  bool   \n",
      " 4   data     1000000 non-null  object \n",
      " 5   pontos   1000000 non-null  float64\n",
      "dtypes: bool(1), float64(1), int64(1), object(3)\n",
      "memory usage: 39.1+ MB\n"
     ]
    }
   ],
   "source": [
    "df.to_csv('teste.csv',index=False)\n",
    "df = pd.read_csv('teste.csv',)\n",
    "df.info()"
   ]
  },
  {
   "cell_type": "markdown",
   "id": "7459be3c-0134-470b-911f-988eeac97373",
   "metadata": {},
   "source": [
    "# Pickle"
   ]
  },
  {
   "cell_type": "code",
   "execution_count": 21,
   "id": "9289d47a-c6da-46fe-b0f2-c99ed5ada315",
   "metadata": {},
   "outputs": [
    {
     "name": "stdout",
     "output_type": "stream",
     "text": [
      "640 ms ± 14.7 ms per loop (mean ± std. dev. of 7 runs, 1 loop each)\n",
      "213 ms ± 7.15 ms per loop (mean ± std. dev. of 7 runs, 1 loop each)\n"
     ]
    }
   ],
   "source": [
    "df = criar_df(1_000_000)\n",
    "%timeit df.to_pickle('teste.pickle')\n",
    "%timeit df = pd.read_pickle('teste.pickle')"
   ]
  },
  {
   "cell_type": "code",
   "execution_count": 22,
   "id": "a3cf23f0-3c29-477e-a81a-e552c1552c25",
   "metadata": {},
   "outputs": [
    {
     "name": "stdout",
     "output_type": "stream",
     "text": [
      "O tamanho do arquivo teste.pickle é 42.29 MB\n"
     ]
    }
   ],
   "source": [
    "import os\n",
    "\n",
    "nome_arquivo = 'teste.pickle'\n",
    "\n",
    "# Obtendo o tamanho do arquivo em bytes\n",
    "tamanho = os.path.getsize(nome_arquivo)\n",
    "\n",
    "# Convertendo para megabytes\n",
    "tamanho_em_megabytes = tamanho / (1024 * 1024)\n",
    "print(f'O tamanho do arquivo {nome_arquivo} é {tamanho_em_megabytes:.2f} MB')"
   ]
  },
  {
   "cell_type": "code",
   "execution_count": 23,
   "id": "4ef58a11-d309-4ec3-852d-6c46fa85cbab",
   "metadata": {},
   "outputs": [],
   "source": [
    "df = criar_df(1_000_000)\n",
    "df = definir_tipo(df)\n",
    "df.to_pickle('teste.pickle')\n",
    "df = pd.read_pickle('teste.pickle')"
   ]
  },
  {
   "cell_type": "code",
   "execution_count": 24,
   "id": "7eb9f014-e0ae-42b5-8f65-d47741accd94",
   "metadata": {},
   "outputs": [
    {
     "name": "stdout",
     "output_type": "stream",
     "text": [
      "<class 'pandas.core.frame.DataFrame'>\n",
      "RangeIndex: 1000000 entries, 0 to 999999\n",
      "Data columns (total 6 columns):\n",
      " #   Column   Non-Null Count    Dtype         \n",
      "---  ------   --------------    -----         \n",
      " 0   tamanho  1000000 non-null  category      \n",
      " 1   idade    1000000 non-null  int16         \n",
      " 2   time     1000000 non-null  category      \n",
      " 3   ganhou   1000000 non-null  bool          \n",
      " 4   data     1000000 non-null  datetime64[ns]\n",
      " 5   pontos   1000000 non-null  float32       \n",
      "dtypes: bool(1), category(2), datetime64[ns](1), float32(1), int16(1)\n",
      "memory usage: 16.2 MB\n"
     ]
    }
   ],
   "source": [
    "df.info()"
   ]
  },
  {
   "cell_type": "markdown",
   "id": "08a28eb8-4916-4968-bfd1-f7e6015d9909",
   "metadata": {},
   "source": [
    "# Parquet"
   ]
  },
  {
   "cell_type": "code",
   "execution_count": null,
   "id": "28f1a4a7-63c6-4e96-899d-8c84e046e726",
   "metadata": {},
   "outputs": [],
   "source": []
  },
  {
   "cell_type": "code",
   "execution_count": 25,
   "id": "7a810c9c-788b-4e80-8ef1-b62438beae85",
   "metadata": {},
   "outputs": [
    {
     "name": "stdout",
     "output_type": "stream",
     "text": [
      "Requirement already satisfied: pyarrow in c:\\users\\raul\\anaconda3\\lib\\site-packages (11.0.0)\n",
      "Requirement already satisfied: numpy>=1.16.6 in c:\\users\\raul\\anaconda3\\lib\\site-packages (from pyarrow) (1.24.3)\n",
      "Requirement already satisfied: fastparquet in c:\\users\\raul\\anaconda3\\lib\\site-packages (2023.10.1)\n",
      "Requirement already satisfied: pandas>=1.5.0 in c:\\users\\raul\\anaconda3\\lib\\site-packages (from fastparquet) (2.0.3)\n",
      "Requirement already satisfied: numpy>=1.20.3 in c:\\users\\raul\\anaconda3\\lib\\site-packages (from fastparquet) (1.24.3)\n",
      "Requirement already satisfied: cramjam>=2.3 in c:\\users\\raul\\anaconda3\\lib\\site-packages (from fastparquet) (2.7.0)\n",
      "Requirement already satisfied: fsspec in c:\\users\\raul\\anaconda3\\lib\\site-packages (from fastparquet) (2023.4.0)\n",
      "Requirement already satisfied: packaging in c:\\users\\raul\\anaconda3\\lib\\site-packages (from fastparquet) (23.1)\n",
      "Requirement already satisfied: python-dateutil>=2.8.2 in c:\\users\\raul\\anaconda3\\lib\\site-packages (from pandas>=1.5.0->fastparquet) (2.8.2)\n",
      "Requirement already satisfied: pytz>=2020.1 in c:\\users\\raul\\anaconda3\\lib\\site-packages (from pandas>=1.5.0->fastparquet) (2023.3.post1)\n",
      "Requirement already satisfied: tzdata>=2022.1 in c:\\users\\raul\\anaconda3\\lib\\site-packages (from pandas>=1.5.0->fastparquet) (2023.3)\n",
      "Requirement already satisfied: six>=1.5 in c:\\users\\raul\\anaconda3\\lib\\site-packages (from python-dateutil>=2.8.2->pandas>=1.5.0->fastparquet) (1.16.0)\n"
     ]
    }
   ],
   "source": [
    "!pip install pyarrow\n",
    "!pip install fastparquet"
   ]
  },
  {
   "cell_type": "code",
   "execution_count": 26,
   "id": "05cbae4f-b0d6-4427-84f4-6f89be66c15d",
   "metadata": {},
   "outputs": [
    {
     "name": "stdout",
     "output_type": "stream",
     "text": [
      "318 ms ± 6.9 ms per loop (mean ± std. dev. of 7 runs, 1 loop each)\n",
      "113 ms ± 2.65 ms per loop (mean ± std. dev. of 7 runs, 10 loops each)\n"
     ]
    }
   ],
   "source": [
    "df = criar_df(1_000_000)\n",
    "%timeit df.to_parquet('teste.parquet')\n",
    "%timeit df = pd.read_parquet('teste.parquet')"
   ]
  },
  {
   "cell_type": "code",
   "execution_count": 27,
   "id": "910dc37b-7bb2-4801-8003-03e7ef40a5d8",
   "metadata": {},
   "outputs": [
    {
     "name": "stdout",
     "output_type": "stream",
     "text": [
      "O tamanho do arquivo teste.parquet é 10.54 MB\n"
     ]
    }
   ],
   "source": [
    "import os\n",
    "\n",
    "nome_arquivo = 'teste.parquet'\n",
    "\n",
    "# Obtendo o tamanho do arquivo em bytes\n",
    "tamanho = os.path.getsize(nome_arquivo)\n",
    "\n",
    "# Convertendo para megabytes\n",
    "tamanho_em_megabytes = tamanho / (1024 * 1024)\n",
    "print(f'O tamanho do arquivo {nome_arquivo} é {tamanho_em_megabytes:.2f} MB')"
   ]
  },
  {
   "cell_type": "code",
   "execution_count": 28,
   "id": "147f1b97-5713-4a2a-8f14-66371a6f131c",
   "metadata": {},
   "outputs": [],
   "source": [
    "df = criar_df(1_000_000)\n",
    "df = definir_tipo(df)\n",
    "df.to_parquet('teste.parquet')\n",
    "df = pd.read_parquet('teste.parquet')"
   ]
  },
  {
   "cell_type": "code",
   "execution_count": 29,
   "id": "e56e40bb-104b-431b-a20d-a8566561aa02",
   "metadata": {},
   "outputs": [
    {
     "name": "stdout",
     "output_type": "stream",
     "text": [
      "<class 'pandas.core.frame.DataFrame'>\n",
      "RangeIndex: 1000000 entries, 0 to 999999\n",
      "Data columns (total 6 columns):\n",
      " #   Column   Non-Null Count    Dtype         \n",
      "---  ------   --------------    -----         \n",
      " 0   tamanho  1000000 non-null  category      \n",
      " 1   idade    1000000 non-null  int16         \n",
      " 2   time     1000000 non-null  category      \n",
      " 3   ganhou   1000000 non-null  bool          \n",
      " 4   data     1000000 non-null  datetime64[ns]\n",
      " 5   pontos   1000000 non-null  float32       \n",
      "dtypes: bool(1), category(2), datetime64[ns](1), float32(1), int16(1)\n",
      "memory usage: 16.2 MB\n"
     ]
    }
   ],
   "source": [
    "df.info()"
   ]
  },
  {
   "cell_type": "markdown",
   "id": "e839bf78-76eb-4d26-ade7-e92bb68e0c22",
   "metadata": {},
   "source": [
    "# Feather"
   ]
  },
  {
   "cell_type": "code",
   "execution_count": 30,
   "id": "039af930-adad-4a14-94ad-d198de20663d",
   "metadata": {},
   "outputs": [
    {
     "name": "stdout",
     "output_type": "stream",
     "text": [
      "144 ms ± 2.95 ms per loop (mean ± std. dev. of 7 runs, 10 loops each)\n",
      "82 ms ± 1.87 ms per loop (mean ± std. dev. of 7 runs, 10 loops each)\n"
     ]
    }
   ],
   "source": [
    "df = criar_df(1_000_000)\n",
    "%timeit df.to_feather('teste.feather')\n",
    "%timeit df = pd.read_feather('teste.feather')"
   ]
  },
  {
   "cell_type": "code",
   "execution_count": 31,
   "id": "199b172e-dee4-4a35-9ca9-da9d28e0f5f9",
   "metadata": {},
   "outputs": [
    {
     "name": "stdout",
     "output_type": "stream",
     "text": [
      "O tamanho do arquivo teste.feather é 28.54 MB\n"
     ]
    }
   ],
   "source": [
    "import os\n",
    "\n",
    "nome_arquivo = 'teste.feather'\n",
    "\n",
    "# Obtendo o tamanho do arquivo em bytes\n",
    "tamanho = os.path.getsize(nome_arquivo)\n",
    "\n",
    "# Convertendo para megabytes\n",
    "tamanho_em_megabytes = tamanho / (1024 * 1024)\n",
    "print(f'O tamanho do arquivo {nome_arquivo} é {tamanho_em_megabytes:.2f} MB')"
   ]
  },
  {
   "cell_type": "code",
   "execution_count": 32,
   "id": "caa0ecef-dd02-441e-949d-c5b696ae8c68",
   "metadata": {},
   "outputs": [],
   "source": [
    "df = criar_df(1_000_000)\n",
    "df = definir_tipo(df)\n",
    "df.to_feather('teste.feather')\n",
    "df = pd.read_feather('teste.feather')"
   ]
  },
  {
   "cell_type": "code",
   "execution_count": 33,
   "id": "5c02d795-5157-4fe5-b988-abd7dafbae95",
   "metadata": {},
   "outputs": [
    {
     "name": "stdout",
     "output_type": "stream",
     "text": [
      "<class 'pandas.core.frame.DataFrame'>\n",
      "RangeIndex: 1000000 entries, 0 to 999999\n",
      "Data columns (total 6 columns):\n",
      " #   Column   Non-Null Count    Dtype         \n",
      "---  ------   --------------    -----         \n",
      " 0   tamanho  1000000 non-null  category      \n",
      " 1   idade    1000000 non-null  int16         \n",
      " 2   time     1000000 non-null  category      \n",
      " 3   ganhou   1000000 non-null  bool          \n",
      " 4   data     1000000 non-null  datetime64[ns]\n",
      " 5   pontos   1000000 non-null  float32       \n",
      "dtypes: bool(1), category(2), datetime64[ns](1), float32(1), int16(1)\n",
      "memory usage: 16.2 MB\n"
     ]
    }
   ],
   "source": [
    "df.info()"
   ]
  },
  {
   "cell_type": "markdown",
   "id": "bf1f3a3a-39fd-4571-a170-22cfff3d5257",
   "metadata": {},
   "source": [
    "# Comparacao Final"
   ]
  },
  {
   "cell_type": "code",
   "execution_count": 34,
   "id": "f931d42d-c330-4bd5-b3eb-b599eaab940b",
   "metadata": {},
   "outputs": [
    {
     "name": "stdout",
     "output_type": "stream",
     "text": [
      "Lendo e Salvando CSV\n",
      "CPU times: total: 12.7 s\n",
      "Wall time: 18.7 s\n",
      "CPU times: total: 2.58 s\n",
      "Wall time: 4.68 s\n"
     ]
    }
   ],
   "source": [
    "print('Lendo e Salvando CSV')\n",
    "df = criar_df(10_000_000)\n",
    "df = definir_tipo(df)\n",
    "%time df.to_csv('teste.csv')\n",
    "%time df_csv = pd.read_csv('teste.csv')"
   ]
  },
  {
   "cell_type": "code",
   "execution_count": 35,
   "id": "f29fe025-2db4-4181-8f68-710189fbb9b2",
   "metadata": {},
   "outputs": [
    {
     "name": "stdout",
     "output_type": "stream",
     "text": [
      "Lendo e Salvando Pickle\n",
      "CPU times: total: 15.6 ms\n",
      "Wall time: 93.7 ms\n",
      "CPU times: total: 0 ns\n",
      "Wall time: 34 ms\n"
     ]
    }
   ],
   "source": [
    "print('Lendo e Salvando Pickle')\n",
    "df = criar_df(10_000_000)\n",
    "df = definir_tipo(df)\n",
    "%time df.to_pickle('teste.pickle')\n",
    "%time df_pickle = pd.read_pickle('teste.pickle')"
   ]
  },
  {
   "cell_type": "code",
   "execution_count": 37,
   "id": "a35a1769-e32b-4df9-978d-b32303ee7c0f",
   "metadata": {},
   "outputs": [
    {
     "name": "stdout",
     "output_type": "stream",
     "text": [
      "Lendo e Salvando Parquet\n",
      "CPU times: total: 531 ms\n",
      "Wall time: 580 ms\n",
      "CPU times: total: 297 ms\n",
      "Wall time: 172 ms\n"
     ]
    }
   ],
   "source": [
    "print('Lendo e Salvando Parquet')\n",
    "df = criar_df(10_000_000)\n",
    "df = definir_tipo(df)\n",
    "%time df.to_parquet('teste.parquet')\n",
    "%time df_parquet = pd.read_parquet('teste.parquet')"
   ]
  },
  {
   "cell_type": "code",
   "execution_count": 38,
   "id": "2aa90f52-ca06-49dc-8f7d-23c6b2088146",
   "metadata": {},
   "outputs": [
    {
     "name": "stdout",
     "output_type": "stream",
     "text": [
      "Lendo e Salvando Feather\n",
      "CPU times: total: 0 ns\n",
      "Wall time: 178 ms\n",
      "CPU times: total: 93.8 ms\n",
      "Wall time: 118 ms\n"
     ]
    }
   ],
   "source": [
    "print('Lendo e Salvando Feather')\n",
    "df = criar_df(10_000_000)\n",
    "df = definir_tipo(df)\n",
    "%time df.to_feather('teste.feather')\n",
    "%time df_feather = pd.read_feather('teste.feather')"
   ]
  },
  {
   "cell_type": "code",
   "execution_count": 39,
   "id": "06a1b572-0291-4b93-8755-6993dc159a5b",
   "metadata": {},
   "outputs": [
    {
     "name": "stdout",
     "output_type": "stream",
     "text": [
      "O tamanho do arquivo CSV é 496.97 MB\n",
      "O tamanho do arquivo Pickle é 162.13 MB\n",
      "O tamanho do arquivo Parquet é 65.06 MB\n",
      "O tamanho do arquivo Feather é 97.92 MB\n"
     ]
    }
   ],
   "source": [
    "import os\n",
    "\n",
    "arquivos = {\n",
    "    'teste.csv': 'CSV',\n",
    "    'teste.pickle': 'Pickle',\n",
    "    'teste.parquet': 'Parquet',\n",
    "    'teste.feather': 'Feather'\n",
    "}\n",
    "\n",
    "for arquivo, tipo in arquivos.items():\n",
    "    tamanho = os.path.getsize(arquivo)\n",
    "    tamanho_mb = tamanho / (1024 * 1024)\n",
    "    print(f'O tamanho do arquivo {tipo} é {tamanho_mb:.2f} MB')"
   ]
  },
  {
   "cell_type": "code",
   "execution_count": null,
   "id": "603109d5-d017-4f6f-8ebd-ffbd7ef8b268",
   "metadata": {},
   "outputs": [],
   "source": []
  }
 ],
 "metadata": {
  "kernelspec": {
   "display_name": "Python 3 (ipykernel)",
   "language": "python",
   "name": "python3"
  },
  "language_info": {
   "codemirror_mode": {
    "name": "ipython",
    "version": 3
   },
   "file_extension": ".py",
   "mimetype": "text/x-python",
   "name": "python",
   "nbconvert_exporter": "python",
   "pygments_lexer": "ipython3",
   "version": "3.11.5"
  }
 },
 "nbformat": 4,
 "nbformat_minor": 5
}
